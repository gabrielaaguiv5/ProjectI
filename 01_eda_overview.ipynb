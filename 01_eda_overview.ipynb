{
  "nbformat": 4,
  "nbformat_minor": 0,
  "metadata": {
    "colab": {
      "provenance": [],
      "mount_file_id": "https://github.com/gabrielaaguiv5/ProjectI/blob/main/01_eda_overview.ipynb",
      "authorship_tag": "ABX9TyMNgiBS6oFLUqwpBSEvQaoI",
      "include_colab_link": true
    },
    "kernelspec": {
      "name": "python3",
      "display_name": "Python 3"
    },
    "language_info": {
      "name": "python"
    }
  },
  "cells": [
    {
      "cell_type": "markdown",
      "metadata": {
        "id": "view-in-github",
        "colab_type": "text"
      },
      "source": [
        "<a href=\"https://colab.research.google.com/github/gabrielaaguiv5/ProjectI/blob/main/01_eda_overview.ipynb\" target=\"_parent\"><img src=\"https://colab.research.google.com/assets/colab-badge.svg\" alt=\"Open In Colab\"/></a>"
      ]
    },
    {
      "cell_type": "markdown",
      "source": [],
      "metadata": {
        "id": "bHdDhCXLdecM"
      }
    },
    {
      "cell_type": "code",
      "source": [
        "!ls /content/ProjectI/notebooks/"
      ],
      "metadata": {
        "id": "rLxDHqW5fN9D",
        "outputId": "24cba2e4-6e0d-4209-be7e-1325cdb4595e",
        "colab": {
          "base_uri": "https://localhost:8080/"
        }
      },
      "execution_count": 7,
      "outputs": [
        {
          "output_type": "stream",
          "name": "stdout",
          "text": [
            "01_eda_overview.ipynb\n"
          ]
        }
      ]
    },
    {
      "cell_type": "code",
      "source": [],
      "metadata": {
        "id": "0rwyUe2dfrbT"
      },
      "execution_count": null,
      "outputs": []
    }
  ]
}