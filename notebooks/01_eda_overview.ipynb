{
  "cells": [
    {
      "cell_type": "code",
      "execution_count": null,
      "id": "dddad562",
      "metadata": {
        "id": "dddad562"
      },
      "outputs": [],
      "source": [
        "# Gabriela Aguilar\n",
        "# Exploratory Data Analysis of Travel Review Ratings from UC Irvine Machine Learning Repository\n",
        "# Google reviews on attractions from 24 categories across Europe are considered. Google user rating ranges from 1 to 5 and average user rating per category is calculated.\n"
      ]
    },
    {
      "cell_type": "markdown",
      "source": [
        "# **1. Acceso e Importación de Datos:**\n",
        "\n",
        "*   Importación de las librerias necesarias.\n",
        "*   Decodificación del repositorio de GitHub y acceso a la base de datos en formato CSV."
      ],
      "metadata": {
        "id": "Nh4CWqyAOJ9P"
      },
      "id": "Nh4CWqyAOJ9P"
    },
    {
      "cell_type": "code",
      "source": [
        "# Importando todas las librerias necesarias\n",
        "\n",
        "import pandas as pd\n",
        "import numpy as np\n",
        "import matplotlib.pyplot as plt\n",
        "import seaborn as sns\n",
        "from scipy import stats\n",
        "sns.set(style=\"whitegrid\")\n",
        "import plotly.express as px # For dynamic graphics\n",
        "from getpass import getpass # For GitHub token request\n",
        "import requests # Access to HTTP from GitHub repository\n",
        "import base64\n",
        "from io import StringIO"
      ],
      "metadata": {
        "id": "TS1XPKUM3sMK"
      },
      "id": "TS1XPKUM3sMK",
      "execution_count": 2,
      "outputs": []
    },
    {
      "cell_type": "code",
      "source": [
        "# Accesso a repositorio de GitHub privado\n",
        "\n",
        "token = getpass('Enter your GitHub Personal Access Token: ')"
      ],
      "metadata": {
        "id": "RHnIEMgbGfLw",
        "outputId": "e2b43975-4dc2-4d2d-e206-f4e73a241d1b",
        "colab": {
          "base_uri": "https://localhost:8080/"
        }
      },
      "id": "RHnIEMgbGfLw",
      "execution_count": 32,
      "outputs": [
        {
          "name": "stdout",
          "output_type": "stream",
          "text": [
            "Enter your GitHub Personal Access Token: ··········\n"
          ]
        }
      ]
    },
    {
      "cell_type": "code",
      "source": [
        "# Carga de los Datos\n",
        "\n",
        "# Acceso a repo privado de GitHub y archivo de Datos raw via GitHub API\n",
        "url = f\"https://api.github.com/repos/gabrielaaguiv5/ProjectI/contents/data/raw/google_review_ratings.csv\"\n",
        "\n",
        "# Decodificación con GitHub API y token para acceso a repo privado\n",
        "headers = {\"Authorization\": f\"token {token}\"}\n",
        "res = requests.get(url, headers=headers)\n",
        "\n",
        "# Decodificación de contenido en repo y carga en Database con Pandas\n",
        "if res.status_code == 200:\n",
        "    content = res.json()['content']\n",
        "    decoded = base64.b64decode(content).decode('utf-8')\n",
        "    datos = pd.read_csv(StringIO(decoded), delimiter=',')\n",
        "    print(datos.head(10))\n",
        "else:\n",
        "    print(f\"Failed to fetch file: {res.status_code} {res.reason}\")"
      ],
      "metadata": {
        "id": "ukPu05cjGng_",
        "outputId": "cb024b96-22cd-4882-bf16-090112ef2d9b",
        "colab": {
          "base_uri": "https://localhost:8080/"
        }
      },
      "id": "ukPu05cjGng_",
      "execution_count": 33,
      "outputs": [
        {
          "output_type": "stream",
          "name": "stdout",
          "text": [
            "      User  Category 1  Category 2  Category 3  Category 4  Category 5  \\\n",
            "0   User 1         0.0         0.0        3.63        3.65         5.0   \n",
            "1   User 2         0.0         0.0        3.63        3.65         5.0   \n",
            "2   User 3         0.0         0.0        3.63        3.63         5.0   \n",
            "3   User 4         0.0         0.5        3.63        3.63         5.0   \n",
            "4   User 5         0.0         0.0        3.63        3.63         5.0   \n",
            "5   User 6         0.0         0.0        3.63        3.63         5.0   \n",
            "6   User 7         0.0         5.0        3.63        3.63         5.0   \n",
            "7   User 8         0.0         5.0        3.63        3.63         5.0   \n",
            "8   User 9         0.0         5.0        3.64        3.64         5.0   \n",
            "9  User 10         0.0         5.0        3.64        3.64         5.0   \n",
            "\n",
            "   Category 6  Category 7  Category 8  Category 9  ...  Category 16  \\\n",
            "0        2.92        5.00        2.35        2.33  ...         0.59   \n",
            "1        2.92        5.00        2.64        2.33  ...         0.59   \n",
            "2        2.92        5.00        2.64        2.33  ...         0.59   \n",
            "3        2.92        5.00        2.35        2.33  ...         0.59   \n",
            "4        2.92        5.00        2.64        2.33  ...         0.59   \n",
            "5        2.92        5.00        2.63        2.33  ...         0.59   \n",
            "6        2.92        3.03        2.35        2.33  ...         0.59   \n",
            "7        2.92        5.00        2.63        2.33  ...         0.60   \n",
            "8        2.92        3.03        2.62        2.32  ...         0.60   \n",
            "9        2.92        5.00        2.35        2.32  ...         0.59   \n",
            "\n",
            "  Category 17  Category 18  Category 19  Category 20  Category 21  \\\n",
            "0         0.5          0.0          0.5          0.0          0.0   \n",
            "1         0.5          0.0          0.5          0.0          0.0   \n",
            "2         0.5          0.0          0.5          0.0          0.0   \n",
            "3         0.5          0.0          0.5          0.0          0.0   \n",
            "4         0.5          0.0          0.5          0.0          0.0   \n",
            "5         0.5          0.0          0.5          0.0          0.0   \n",
            "6         0.5          0.0          0.5          0.0          0.0   \n",
            "7         0.5          0.0          0.5          0.0          0.0   \n",
            "8         0.0          0.0          0.5          0.0          0.0   \n",
            "9         0.0          0.0          0.0          0.0          0.0   \n",
            "\n",
            "   Category 22  Category 23  Category 24  Unnamed: 25  \n",
            "0          0.0          0.0          0.0          NaN  \n",
            "1          0.0          0.0          0.0          NaN  \n",
            "2          0.0          0.0          0.0          NaN  \n",
            "3          0.0          0.0          0.0          NaN  \n",
            "4          0.0          0.0          0.0          NaN  \n",
            "5          0.0          0.0          0.0          NaN  \n",
            "6          0.0          0.0          0.0          NaN  \n",
            "7          0.0          0.0          0.0          NaN  \n",
            "8          0.0          0.0          0.0          NaN  \n",
            "9          0.0          0.0          0.0          NaN  \n",
            "\n",
            "[10 rows x 26 columns]\n"
          ]
        }
      ]
    },
    {
      "cell_type": "markdown",
      "source": [
        "# **2. Análisis Descriptivo:**\n",
        "\n",
        "*   Revisión del tipo de datos y cantidad de registros.\n",
        "*   Identificación y tratamiento de valores faltantes o duplicados.\n",
        "*   Estadísticas descriptivas (media, mediana, desviación estándar, percentiles, etc.).\n"
      ],
      "metadata": {
        "id": "isBr2yHwN26G"
      },
      "id": "isBr2yHwN26G"
    },
    {
      "cell_type": "code",
      "source": [
        "# Revisión del tipo de datos y cantidad de registros.\n",
        "datos.info()"
      ],
      "metadata": {
        "id": "An7FWDKHLY22",
        "outputId": "02e9575c-5cf4-437a-87f3-7333e5bd8ba3",
        "colab": {
          "base_uri": "https://localhost:8080/"
        }
      },
      "id": "An7FWDKHLY22",
      "execution_count": 34,
      "outputs": [
        {
          "output_type": "stream",
          "name": "stdout",
          "text": [
            "<class 'pandas.core.frame.DataFrame'>\n",
            "RangeIndex: 5456 entries, 0 to 5455\n",
            "Data columns (total 26 columns):\n",
            " #   Column       Non-Null Count  Dtype  \n",
            "---  ------       --------------  -----  \n",
            " 0   User         5456 non-null   object \n",
            " 1   Category 1   5456 non-null   float64\n",
            " 2   Category 2   5456 non-null   float64\n",
            " 3   Category 3   5456 non-null   float64\n",
            " 4   Category 4   5456 non-null   float64\n",
            " 5   Category 5   5456 non-null   float64\n",
            " 6   Category 6   5456 non-null   float64\n",
            " 7   Category 7   5456 non-null   float64\n",
            " 8   Category 8   5456 non-null   float64\n",
            " 9   Category 9   5456 non-null   float64\n",
            " 10  Category 10  5456 non-null   float64\n",
            " 11  Category 11  5456 non-null   object \n",
            " 12  Category 12  5455 non-null   float64\n",
            " 13  Category 13  5456 non-null   float64\n",
            " 14  Category 14  5456 non-null   float64\n",
            " 15  Category 15  5456 non-null   float64\n",
            " 16  Category 16  5456 non-null   float64\n",
            " 17  Category 17  5456 non-null   float64\n",
            " 18  Category 18  5456 non-null   float64\n",
            " 19  Category 19  5456 non-null   float64\n",
            " 20  Category 20  5456 non-null   float64\n",
            " 21  Category 21  5456 non-null   float64\n",
            " 22  Category 22  5456 non-null   float64\n",
            " 23  Category 23  5456 non-null   float64\n",
            " 24  Category 24  5455 non-null   float64\n",
            " 25  Unnamed: 25  2 non-null      float64\n",
            "dtypes: float64(24), object(2)\n",
            "memory usage: 1.1+ MB\n"
          ]
        }
      ]
    },
    {
      "cell_type": "code",
      "source": [
        "# Identificación de valores faltantes\n",
        "\n",
        "print(datos.isnull().sum()) # Valores faltantes en cada fila\n",
        "\n",
        "print()\n",
        "\n",
        "print(\"Valores faltantes en la totalidad de la Database:\")\n",
        "\n",
        "print(datos.isnull().any().any()) # Valores faltantes en la totalidad de la Database, revisa cada columna y genera resultado consolidado"
      ],
      "metadata": {
        "id": "zeXCkyJHWSnX",
        "outputId": "62ecf61d-f385-4cbb-a38a-0bf2367e02a4",
        "colab": {
          "base_uri": "https://localhost:8080/"
        }
      },
      "id": "zeXCkyJHWSnX",
      "execution_count": 35,
      "outputs": [
        {
          "output_type": "stream",
          "name": "stdout",
          "text": [
            "User              0\n",
            "Category 1        0\n",
            "Category 2        0\n",
            "Category 3        0\n",
            "Category 4        0\n",
            "Category 5        0\n",
            "Category 6        0\n",
            "Category 7        0\n",
            "Category 8        0\n",
            "Category 9        0\n",
            "Category 10       0\n",
            "Category 11       0\n",
            "Category 12       1\n",
            "Category 13       0\n",
            "Category 14       0\n",
            "Category 15       0\n",
            "Category 16       0\n",
            "Category 17       0\n",
            "Category 18       0\n",
            "Category 19       0\n",
            "Category 20       0\n",
            "Category 21       0\n",
            "Category 22       0\n",
            "Category 23       0\n",
            "Category 24       1\n",
            "Unnamed: 25    5454\n",
            "dtype: int64\n",
            "\n",
            "Valores faltantes en la totalidad de la Database:\n",
            "True\n"
          ]
        }
      ]
    },
    {
      "cell_type": "code",
      "source": [
        "# Identificación de valores duplicados\n",
        "\n",
        "print(datos.duplicated().sum()) # Filas duplicadas\n",
        "\n",
        "print()\n",
        "\n",
        "print(\"Filas duplicadas en la totalidad de la Database:\")\n",
        "print(datos[datos.duplicated()])"
      ],
      "metadata": {
        "id": "DUsy1uh6XQqO",
        "outputId": "0bdf337f-54b6-4d47-94da-d7749e0fa7f9",
        "colab": {
          "base_uri": "https://localhost:8080/"
        }
      },
      "id": "DUsy1uh6XQqO",
      "execution_count": 36,
      "outputs": [
        {
          "output_type": "stream",
          "name": "stdout",
          "text": [
            "0\n",
            "\n",
            "Filas duplicadas en la totalidad de la Database:\n",
            "Empty DataFrame\n",
            "Columns: [User, Category 1, Category 2, Category 3, Category 4, Category 5, Category 6, Category 7, Category 8, Category 9, Category 10, Category 11, Category 12, Category 13, Category 14, Category 15, Category 16, Category 17, Category 18, Category 19, Category 20, Category 21, Category 22, Category 23, Category 24, Unnamed: 25]\n",
            "Index: []\n",
            "\n",
            "[0 rows x 26 columns]\n"
          ]
        }
      ]
    },
    {
      "cell_type": "code",
      "source": [
        "# Ajustar tipo de variables según el contenido de cada columna\n",
        "\n",
        "category_columns = ['User']\n",
        "columnas_numericas = ['Category 1', 'Category 2', 'Category 3', 'Category 4', 'Category 5', 'Category 6','Category 7', 'Category 8', 'Category 9', 'Category 10', 'Category 11', 'Category 12','Category 13', 'Category 14', 'Category 15', 'Category 16', 'Category 17', 'Category 18','Category 19', 'Category 20', 'Category 21', 'Category 22', 'Category 23','Category 24', 'Unnamed: 25']\n",
        "\n",
        "# Conversión a tipo de datos correspondiente\n",
        "datos[category_columns] = datos[category_columns].astype('category')\n",
        "# Applying a function to clean and convert the numeric columns\n",
        "def clean_and_convert(x):\n",
        "    try:\n",
        "        # Replace any non-numeric characters (except for '.') with an empty string\n",
        "        return float(str(x).replace('\\t', '').replace(' ',''))\n",
        "    except ValueError:\n",
        "        # Handle cases where conversion is not possible, e.g., return NaN\n",
        "        return np.nan\n",
        "\n",
        "datos[columnas_numericas] = datos[columnas_numericas].apply(pd.to_numeric, errors='coerce').fillna(0)"
      ],
      "metadata": {
        "id": "mRWPuCgGQvMW"
      },
      "id": "mRWPuCgGQvMW",
      "execution_count": 29,
      "outputs": []
    },
    {
      "cell_type": "code",
      "source": [
        "# 3. Basic Info\n",
        "print(\"\\nData Types:\")\n",
        "print(df.dtypes)\n",
        "print(\"\\nMissing Values:\")\n",
        "print(df.isnull().sum())\n",
        "df.describe()\n",
        "\n",
        "# 4. Data Cleaning (example placeholders)\n",
        "# df.drop_duplicates(inplace=True)\n",
        "# df['column'] = df['column'].fillna(value)\n",
        "# df['date_col'] = pd.to_datetime(df['date_col'])\n",
        "\n",
        "# 5. Univariate Analysis\n",
        "## Numerical\n",
        "num_cols = df.select_dtypes(include=['int64', 'float64']).columns\n",
        "for col in num_cols:\n",
        "    plt.figure(figsize=(10, 4))\n",
        "    plt.subplot(1, 2, 1)\n",
        "    sns.histplot(df[col], kde=True)\n",
        "    plt.title(f\"Histogram of {col}\")\n",
        "    plt.subplot(1, 2, 2)\n",
        "    sns.boxplot(x=df[col])\n",
        "    plt.title(f\"Boxplot of {col}\")\n",
        "    plt.show()\n",
        "\n",
        "## Categorical\n",
        "cat_cols = df.select_dtypes(include='object').columns\n",
        "for col in cat_cols:\n",
        "    plt.figure(figsize=(8, 4))\n",
        "    sns.countplot(data=df, x=col, order=df[col].value_counts().index)\n",
        "    plt.xticks(rotation=45)\n",
        "    plt.title(f\"Countplot of {col}\")\n",
        "    plt.show()\n",
        "\n",
        "# 6. Bivariate Analysis\n",
        "## Correlation Heatmap\n",
        "plt.figure(figsize=(12, 8))\n",
        "sns.heatmap(df[num_cols].corr(), annot=True, cmap='coolwarm', fmt=\".2f\")\n",
        "plt.title(\"Correlation Matrix\")\n",
        "plt.show()\n",
        "\n",
        "## Pairplot\n",
        "# sns.pairplot(df[num_cols])\n",
        "# plt.show()\n",
        "\n",
        "# 7. Categorical vs Numerical\n",
        "# Example: Boxplot of numerical vs. categorical feature\n",
        "# sns.boxplot(x='categorical_col', y='numerical_col', data=df)\n",
        "# plt.show()\n",
        "\n",
        "# 8. Outlier Detection (Z-score example)\n",
        "# from scipy.stats import zscore\n",
        "# z_scores = np.abs(zscore(df[num_cols]))\n",
        "# outliers = (z_scores > 3).sum(axis=0)\n",
        "# print(\"Outliers per column:\", outliers)\n",
        "\n",
        "# 9. Skewness and Kurtosis\n",
        "for col in num_cols:\n",
        "    print(f\"{col}: Skewness = {df[col].skew():.2f}, Kurtosis = {df[col].kurt():.2f}\")\n",
        "\n",
        "# 10. Summary & Insights\n",
        "# Add markdown cells or print statements summarizing key findings.\n",
        "\n",
        "# Example:\n",
        "# print(\"Insight: Column X shows high skewness, consider log transformation.\")\n",
        "# print(\"Insight: Column Y has strong correlation with target.\")"
      ],
      "metadata": {
        "id": "VgU3i2hxE10I"
      },
      "id": "VgU3i2hxE10I",
      "execution_count": null,
      "outputs": []
    }
  ],
  "metadata": {
    "language_info": {
      "name": "python"
    },
    "colab": {
      "provenance": []
    },
    "kernelspec": {
      "name": "python3",
      "display_name": "Python 3"
    }
  },
  "nbformat": 4,
  "nbformat_minor": 5
}