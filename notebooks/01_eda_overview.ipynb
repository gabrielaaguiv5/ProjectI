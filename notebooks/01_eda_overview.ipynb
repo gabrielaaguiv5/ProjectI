{
  "cells": [
    {
      "cell_type": "code",
      "execution_count": null,
      "id": "dddad562",
      "metadata": {
        "id": "dddad562"
      },
      "outputs": [],
      "source": [
        "# Gabriela Aguilar\n",
        "# Exploratory Data Analysis of Travel Review Ratings from UC Irvine Machine Learning Repository\n",
        "# Google reviews on attractions from 24 categories across Europe are considered. Google user rating ranges from 1 to 5 and average user rating per category is calculated.\n"
      ]
    },
    {
      "cell_type": "markdown",
      "source": [
        "# **1. Acceso e Importación de Datos:**\n",
        "\n",
        "*   Importación de las librerias necesarias.\n",
        "*   Decodificación del repositorio de GitHub y acceso a la base de datos en formato CSV."
      ],
      "metadata": {
        "id": "Nh4CWqyAOJ9P"
      },
      "id": "Nh4CWqyAOJ9P"
    },
    {
      "cell_type": "code",
      "source": [
        "# Importando todas las librerias necesarias\n",
        "\n",
        "import pandas as pd\n",
        "import numpy as np\n",
        "import matplotlib.pyplot as plt\n",
        "import seaborn as sns\n",
        "from scipy import stats\n",
        "sns.set(style=\"whitegrid\")\n",
        "import plotly.express as px # For dynamic graphics\n",
        "from getpass import getpass # For GitHub token request\n",
        "import requests # Access to HTTP from GitHub repository\n",
        "import base64\n",
        "from io import StringIO"
      ],
      "metadata": {
        "id": "TS1XPKUM3sMK"
      },
      "id": "TS1XPKUM3sMK",
      "execution_count": 2,
      "outputs": []
    },
    {
      "cell_type": "code",
      "source": [
        "# Accesso a repositorio de GitHub privado\n",
        "\n",
        "token = getpass('Enter your GitHub Personal Access Token: ')"
      ],
      "metadata": {
        "colab": {
          "base_uri": "https://localhost:8080/"
        },
        "id": "RHnIEMgbGfLw",
        "outputId": "e2b43975-4dc2-4d2d-e206-f4e73a241d1b"
      },
      "id": "RHnIEMgbGfLw",
      "execution_count": 32,
      "outputs": [
        {
          "name": "stdout",
          "output_type": "stream",
          "text": [
            "Enter your GitHub Personal Access Token: ··········\n"
          ]
        }
      ]
    },
    {
      "cell_type": "code",
      "source": [
        "# Carga de los Datos\n",
        "\n",
        "# Acceso a repo privado de GitHub y archivo de Datos raw via GitHub API\n",
        "url = f\"https://api.github.com/repos/gabrielaaguiv5/ProjectI/contents/data/raw/google_review_ratings.csv\"\n",
        "\n",
        "# Decodificación con GitHub API y token para acceso a repo privado\n",
        "headers = {\"Authorization\": f\"token {token}\"}\n",
        "res = requests.get(url, headers=headers)\n",
        "\n",
        "# Decodificación de contenido en repo y carga en Database con Pandas\n",
        "if res.status_code == 200:\n",
        "    content = res.json()['content']\n",
        "    decoded = base64.b64decode(content).decode('utf-8')\n",
        "    datos = pd.read_csv(StringIO(decoded), delimiter=',')\n",
        "    print(datos.head(10))\n",
        "else:\n",
        "    print(f\"Failed to fetch file: {res.status_code} {res.reason}\")"
      ],
      "metadata": {
        "colab": {
          "base_uri": "https://localhost:8080/"
        },
        "id": "ukPu05cjGng_",
        "outputId": "726f2632-ab23-4884-a343-a4688ac03619"
      },
      "id": "ukPu05cjGng_",
      "execution_count": 41,
      "outputs": [
        {
          "output_type": "stream",
          "name": "stdout",
          "text": [
            "    userid  churches  resorts  beaches  parks  theatres  museums  malls  zoos  \\\n",
            "0   User 1       0.0      0.0     3.63   3.65       5.0     2.92   5.00  2.35   \n",
            "1   User 2       0.0      0.0     3.63   3.65       5.0     2.92   5.00  2.64   \n",
            "2   User 3       0.0      0.0     3.63   3.63       5.0     2.92   5.00  2.64   \n",
            "3   User 4       0.0      0.5     3.63   3.63       5.0     2.92   5.00  2.35   \n",
            "4   User 5       0.0      0.0     3.63   3.63       5.0     2.92   5.00  2.64   \n",
            "5   User 6       0.0      0.0     3.63   3.63       5.0     2.92   5.00  2.63   \n",
            "6   User 7       0.0      5.0     3.63   3.63       5.0     2.92   3.03  2.35   \n",
            "7   User 8       0.0      5.0     3.63   3.63       5.0     2.92   5.00  2.63   \n",
            "8   User 9       0.0      5.0     3.64   3.64       5.0     2.92   3.03  2.62   \n",
            "9  User 10       0.0      5.0     3.64   3.64       5.0     2.92   5.00  2.35   \n",
            "\n",
            "   restaurants  ...  art galleries dance clubs  swimming pools  gyms  \\\n",
            "0         2.33  ...           1.74        0.59             0.5   0.0   \n",
            "1         2.33  ...           1.74        0.59             0.5   0.0   \n",
            "2         2.33  ...           1.74        0.59             0.5   0.0   \n",
            "3         2.33  ...           1.74        0.59             0.5   0.0   \n",
            "4         2.33  ...           1.74        0.59             0.5   0.0   \n",
            "5         2.33  ...           1.74        0.59             0.5   0.0   \n",
            "6         2.33  ...           1.75        0.59             0.5   0.0   \n",
            "7         2.33  ...           1.74        0.60             0.5   0.0   \n",
            "8         2.32  ...           0.75        0.60             0.0   0.0   \n",
            "9         2.32  ...           0.74        0.59             0.0   0.0   \n",
            "\n",
            "   bakeries  beauty & spas  cafes  view points  monuments  gardens  \n",
            "0       0.5            0.0    0.0          0.0        0.0      0.0  \n",
            "1       0.5            0.0    0.0          0.0        0.0      0.0  \n",
            "2       0.5            0.0    0.0          0.0        0.0      0.0  \n",
            "3       0.5            0.0    0.0          0.0        0.0      0.0  \n",
            "4       0.5            0.0    0.0          0.0        0.0      0.0  \n",
            "5       0.5            0.0    0.0          0.0        0.0      0.0  \n",
            "6       0.5            0.0    0.0          0.0        0.0      0.0  \n",
            "7       0.5            0.0    0.0          0.0        0.0      0.0  \n",
            "8       0.5            0.0    0.0          0.0        0.0      0.0  \n",
            "9       0.0            0.0    0.0          0.0        0.0      0.0  \n",
            "\n",
            "[10 rows x 25 columns]\n"
          ]
        }
      ]
    },
    {
      "cell_type": "markdown",
      "source": [
        "# **2. Análisis Descriptivo:**\n",
        "\n",
        "*   Revisión del tipo de datos y cantidad de registros.\n",
        "*   Identificación y tratamiento de valores faltantes o duplicados.\n",
        "*   Estadísticas descriptivas (media, mediana, desviación estándar, percentiles, etc.).\n"
      ],
      "metadata": {
        "id": "isBr2yHwN26G"
      },
      "id": "isBr2yHwN26G"
    },
    {
      "cell_type": "code",
      "source": [
        "# Revisión del tipo de datos y cantidad de registros.\n",
        "datos.info()"
      ],
      "metadata": {
        "colab": {
          "base_uri": "https://localhost:8080/"
        },
        "id": "An7FWDKHLY22",
        "outputId": "1e2a5ae3-1a74-4f24-cbb0-ca538c1fb26f"
      },
      "id": "An7FWDKHLY22",
      "execution_count": 42,
      "outputs": [
        {
          "output_type": "stream",
          "name": "stdout",
          "text": [
            "<class 'pandas.core.frame.DataFrame'>\n",
            "RangeIndex: 5456 entries, 0 to 5455\n",
            "Data columns (total 25 columns):\n",
            " #   Column                 Non-Null Count  Dtype  \n",
            "---  ------                 --------------  -----  \n",
            " 0   userid                 5456 non-null   object \n",
            " 1   churches               5456 non-null   float64\n",
            " 2   resorts                5456 non-null   float64\n",
            " 3   beaches                5456 non-null   float64\n",
            " 4   parks                  5456 non-null   float64\n",
            " 5   theatres               5456 non-null   float64\n",
            " 6   museums                5456 non-null   float64\n",
            " 7   malls                  5456 non-null   float64\n",
            " 8   zoos                   5456 non-null   float64\n",
            " 9   restaurants            5456 non-null   float64\n",
            " 10  pubs/bars              5456 non-null   float64\n",
            " 11  local services         5456 non-null   object \n",
            " 12  burger/pizza shops     5455 non-null   float64\n",
            " 13  hotels/other lodgings  5456 non-null   float64\n",
            " 14  juice bars             5456 non-null   float64\n",
            " 15  art galleries          5456 non-null   float64\n",
            " 16  dance clubs            5456 non-null   float64\n",
            " 17  swimming pools         5456 non-null   float64\n",
            " 18  gyms                   5456 non-null   float64\n",
            " 19  bakeries               5456 non-null   float64\n",
            " 20  beauty & spas          5456 non-null   float64\n",
            " 21  cafes                  5456 non-null   float64\n",
            " 22  view points            5456 non-null   float64\n",
            " 23  monuments              5456 non-null   float64\n",
            " 24  gardens                5455 non-null   float64\n",
            "dtypes: float64(23), object(2)\n",
            "memory usage: 1.0+ MB\n"
          ]
        }
      ]
    },
    {
      "cell_type": "code",
      "source": [
        "# Identificación de valores faltantes\n",
        "\n",
        "print(datos.isnull().sum()) # Valores faltantes en cada fila\n",
        "\n",
        "print()\n",
        "\n",
        "print(\"Valores faltantes en la totalidad de la Database:\")\n",
        "\n",
        "print(datos.isnull().any().any()) # Valores faltantes en la totalidad de la Database, revisa cada columna y genera resultado consolidado"
      ],
      "metadata": {
        "colab": {
          "base_uri": "https://localhost:8080/"
        },
        "id": "zeXCkyJHWSnX",
        "outputId": "0d40fa14-17df-4b24-d12d-edab4549bd7e"
      },
      "id": "zeXCkyJHWSnX",
      "execution_count": 43,
      "outputs": [
        {
          "output_type": "stream",
          "name": "stdout",
          "text": [
            "userid                   0\n",
            "churches                 0\n",
            "resorts                  0\n",
            "beaches                  0\n",
            "parks                    0\n",
            "theatres                 0\n",
            "museums                  0\n",
            "malls                    0\n",
            "zoos                     0\n",
            "restaurants              0\n",
            "pubs/bars                0\n",
            "local services           0\n",
            "burger/pizza shops       1\n",
            "hotels/other lodgings    0\n",
            "juice bars               0\n",
            "art galleries            0\n",
            "dance clubs              0\n",
            "swimming pools           0\n",
            "gyms                     0\n",
            "bakeries                 0\n",
            "beauty & spas            0\n",
            "cafes                    0\n",
            "view points              0\n",
            "monuments                0\n",
            "gardens                  1\n",
            "dtype: int64\n",
            "\n",
            "Valores faltantes en la totalidad de la Database:\n",
            "True\n"
          ]
        }
      ]
    },
    {
      "cell_type": "code",
      "source": [
        "# Identificación de valores duplicados\n",
        "\n",
        "print(datos.duplicated().sum()) # Filas duplicadas\n",
        "\n",
        "print()\n",
        "\n",
        "print(\"Filas duplicadas en la totalidad de la Database:\")\n",
        "print(datos[datos.duplicated()])"
      ],
      "metadata": {
        "colab": {
          "base_uri": "https://localhost:8080/"
        },
        "id": "DUsy1uh6XQqO",
        "outputId": "0dea57cb-bc1e-48f1-ae37-8199ba2a4d61"
      },
      "id": "DUsy1uh6XQqO",
      "execution_count": 44,
      "outputs": [
        {
          "output_type": "stream",
          "name": "stdout",
          "text": [
            "0\n",
            "\n",
            "Filas duplicadas en la totalidad de la Database:\n",
            "Empty DataFrame\n",
            "Columns: [userid, churches, resorts, beaches, parks, theatres, museums, malls, zoos, restaurants, pubs/bars, local services, burger/pizza shops, hotels/other lodgings, juice bars, art galleries, dance clubs, swimming pools, gyms, bakeries, beauty & spas, cafes, view points, monuments, gardens]\n",
            "Index: []\n",
            "\n",
            "[0 rows x 25 columns]\n"
          ]
        }
      ]
    },
    {
      "cell_type": "code",
      "source": [
        "# Corrección de Null y conversión a variables correspondientes según el contenido de cada columna\n",
        "\n",
        "# Ajustar tipo de variables según el contenido de cada columna\n",
        "\n",
        "category_columns = ['userid']\n",
        "columnas_numericas = ['churches', 'resorts', 'beaches', 'parks', 'theatres', 'museums',\n",
        "    'malls', 'zoos', 'restaurants', 'pubs/bars', 'local services', 'burger/pizza shops',\n",
        "    'hotels/other lodgings', 'juice bars', 'art galleries', 'dance clubs', 'swimming pools',\n",
        "    'gyms', 'bakeries', 'beauty & spas', 'cafes', 'view points', 'monuments', 'gardens']\n",
        "\n",
        "# Conversión a tipo de datos correspondiente\n",
        "datos[category_columns] = datos[category_columns].astype('category')\n",
        "# Aplicando función para corregir datos según error code tras tratar de convertir a columnas_numericas\n",
        "\n",
        "def limpiezaNull(x):\n",
        "    try:\n",
        "        # Reemplazando caractéres no numéricos (excepto por '.') por un espacio vacio\n",
        "        return float(str(x).replace('\\t', '').replace(' ',''))\n",
        "    except ValueError:\n",
        "        # En casos en que el retorno es Nan\n",
        "        return np.nan\n",
        "\n",
        "datos[columnas_numericas] = datos[columnas_numericas].apply(pd.to_numeric, errors='coerce').fillna(0)\n"
      ],
      "metadata": {
        "id": "Pk7wlaFWY0gd"
      },
      "id": "Pk7wlaFWY0gd",
      "execution_count": 47,
      "outputs": []
    },
    {
      "cell_type": "code",
      "source": [
        "# Revisión de datos corregidos\n",
        "datos.info()"
      ],
      "metadata": {
        "id": "TdRs8OuPa1L-",
        "outputId": "b6b0b559-80ea-482b-9dd8-61b3b7493e1e",
        "colab": {
          "base_uri": "https://localhost:8080/"
        }
      },
      "id": "TdRs8OuPa1L-",
      "execution_count": 48,
      "outputs": [
        {
          "output_type": "stream",
          "name": "stdout",
          "text": [
            "<class 'pandas.core.frame.DataFrame'>\n",
            "RangeIndex: 5456 entries, 0 to 5455\n",
            "Data columns (total 25 columns):\n",
            " #   Column                 Non-Null Count  Dtype   \n",
            "---  ------                 --------------  -----   \n",
            " 0   userid                 5456 non-null   category\n",
            " 1   churches               5456 non-null   float64 \n",
            " 2   resorts                5456 non-null   float64 \n",
            " 3   beaches                5456 non-null   float64 \n",
            " 4   parks                  5456 non-null   float64 \n",
            " 5   theatres               5456 non-null   float64 \n",
            " 6   museums                5456 non-null   float64 \n",
            " 7   malls                  5456 non-null   float64 \n",
            " 8   zoos                   5456 non-null   float64 \n",
            " 9   restaurants            5456 non-null   float64 \n",
            " 10  pubs/bars              5456 non-null   float64 \n",
            " 11  local services         5456 non-null   float64 \n",
            " 12  burger/pizza shops     5456 non-null   float64 \n",
            " 13  hotels/other lodgings  5456 non-null   float64 \n",
            " 14  juice bars             5456 non-null   float64 \n",
            " 15  art galleries          5456 non-null   float64 \n",
            " 16  dance clubs            5456 non-null   float64 \n",
            " 17  swimming pools         5456 non-null   float64 \n",
            " 18  gyms                   5456 non-null   float64 \n",
            " 19  bakeries               5456 non-null   float64 \n",
            " 20  beauty & spas          5456 non-null   float64 \n",
            " 21  cafes                  5456 non-null   float64 \n",
            " 22  view points            5456 non-null   float64 \n",
            " 23  monuments              5456 non-null   float64 \n",
            " 24  gardens                5456 non-null   float64 \n",
            "dtypes: category(1), float64(24)\n",
            "memory usage: 1.2 MB\n"
          ]
        }
      ]
    },
    {
      "cell_type": "code",
      "source": [
        "# Asignar nombres de categorías a columnas correspondientes\n",
        "\n",
        "datos.rename(columns={\n",
        "    'userid': 'Unique user id',\n",
        "    'churches': 'Average ratings on churches',\n",
        "    'resorts': 'Average ratings on resorts',\n",
        "    'beaches': 'Average ratings on beaches',\n",
        "    'parks': 'Average ratings on parks',\n",
        "    'theatres': 'Average ratings on theatres',\n",
        "    'museums': 'Average ratings on museums',\n",
        "    'malls': 'Average ratings on malls',\n",
        "    'zoos': 'Average ratings on zoo',\n",
        "    'restaurants': 'Average ratings on restaurants',\n",
        "    'pubs/bars': 'Average ratings on pubs/bars',\n",
        "    'local services': 'Average ratings on local services',\n",
        "    'burger/pizza shops': 'Average ratings on burger/pizza shops',\n",
        "    'hotels/other lodgings': 'Average ratings on hotels/other lodgings',\n",
        "    'juice bars': 'Average ratings on juice bars',\n",
        "    'art galleries': 'Average ratings on art galleries',\n",
        "    'dance clubs': 'Average ratings on dance clubs',\n",
        "    'swimming pools': 'Average ratings on swimming pools',\n",
        "    'gyms': 'Average ratings on gyms',\n",
        "    'bakeries': 'Average ratings on bakeries',\n",
        "    'beauty & spas': 'Average ratings on beauty & spas',\n",
        "    'cafes': 'Average ratings on cafes',\n",
        "    'view points': 'Average ratings on view points',\n",
        "    'monuments': 'Average ratings on monuments',\n",
        "    'gardens': 'Average ratings on gardens',\n",
        "}, inplace=True)"
      ],
      "metadata": {
        "id": "DJT7fDqwa-MF"
      },
      "id": "DJT7fDqwa-MF",
      "execution_count": 49,
      "outputs": []
    },
    {
      "cell_type": "code",
      "source": [
        "# Revisión de datos actualizados\n",
        "datos.info()"
      ],
      "metadata": {
        "id": "NJ2koB5dekFH",
        "outputId": "4ef37a0b-672f-457c-fb16-ecd9c0cb64f3",
        "colab": {
          "base_uri": "https://localhost:8080/"
        }
      },
      "id": "NJ2koB5dekFH",
      "execution_count": 50,
      "outputs": [
        {
          "output_type": "stream",
          "name": "stdout",
          "text": [
            "<class 'pandas.core.frame.DataFrame'>\n",
            "RangeIndex: 5456 entries, 0 to 5455\n",
            "Data columns (total 25 columns):\n",
            " #   Column                                    Non-Null Count  Dtype   \n",
            "---  ------                                    --------------  -----   \n",
            " 0   Unique user id                            5456 non-null   category\n",
            " 1   Average ratings on churches               5456 non-null   float64 \n",
            " 2   Average ratings on resorts                5456 non-null   float64 \n",
            " 3   Average ratings on beaches                5456 non-null   float64 \n",
            " 4   Average ratings on parks                  5456 non-null   float64 \n",
            " 5   Average ratings on theatres               5456 non-null   float64 \n",
            " 6   Average ratings on museums                5456 non-null   float64 \n",
            " 7   Average ratings on malls                  5456 non-null   float64 \n",
            " 8   Average ratings on zoo                    5456 non-null   float64 \n",
            " 9   Average ratings on restaurants            5456 non-null   float64 \n",
            " 10  Average ratings on pubs/bars              5456 non-null   float64 \n",
            " 11  Average ratings on local services         5456 non-null   float64 \n",
            " 12  Average ratings on burger/pizza shops     5456 non-null   float64 \n",
            " 13  Average ratings on hotels/other lodgings  5456 non-null   float64 \n",
            " 14  Average ratings on juice bars             5456 non-null   float64 \n",
            " 15  Average ratings on art galleries          5456 non-null   float64 \n",
            " 16  Average ratings on dance clubs            5456 non-null   float64 \n",
            " 17  Average ratings on swimming pools         5456 non-null   float64 \n",
            " 18  Average ratings on gyms                   5456 non-null   float64 \n",
            " 19  Average ratings on bakeries               5456 non-null   float64 \n",
            " 20  Average ratings on beauty & spas          5456 non-null   float64 \n",
            " 21  Average ratings on cafes                  5456 non-null   float64 \n",
            " 22  Average ratings on view points            5456 non-null   float64 \n",
            " 23  Average ratings on monuments              5456 non-null   float64 \n",
            " 24  Average ratings on gardens                5456 non-null   float64 \n",
            "dtypes: category(1), float64(24)\n",
            "memory usage: 1.2 MB\n"
          ]
        }
      ]
    },
    {
      "cell_type": "code",
      "source": [
        "# 3. Basic Info\n",
        "\n",
        "# 5. Univariate Analysis\n",
        "## Numerical\n",
        "num_cols = df.select_dtypes(include=['int64', 'float64']).columns\n",
        "for col in num_cols:\n",
        "    plt.figure(figsize=(10, 4))\n",
        "    plt.subplot(1, 2, 1)\n",
        "    sns.histplot(df[col], kde=True)\n",
        "    plt.title(f\"Histogram of {col}\")\n",
        "    plt.subplot(1, 2, 2)\n",
        "    sns.boxplot(x=df[col])\n",
        "    plt.title(f\"Boxplot of {col}\")\n",
        "    plt.show()\n",
        "\n",
        "## Categorical\n",
        "cat_cols = df.select_dtypes(include='object').columns\n",
        "for col in cat_cols:\n",
        "    plt.figure(figsize=(8, 4))\n",
        "    sns.countplot(data=df, x=col, order=df[col].value_counts().index)\n",
        "    plt.xticks(rotation=45)\n",
        "    plt.title(f\"Countplot of {col}\")\n",
        "    plt.show()\n",
        "\n",
        "# 6. Bivariate Analysis\n",
        "## Correlation Heatmap\n",
        "plt.figure(figsize=(12, 8))\n",
        "sns.heatmap(df[num_cols].corr(), annot=True, cmap='coolwarm', fmt=\".2f\")\n",
        "plt.title(\"Correlation Matrix\")\n",
        "plt.show()\n",
        "\n",
        "## Pairplot\n",
        "# sns.pairplot(df[num_cols])\n",
        "# plt.show()\n",
        "\n",
        "# 7. Categorical vs Numerical\n",
        "# Example: Boxplot of numerical vs. categorical feature\n",
        "# sns.boxplot(x='categorical_col', y='numerical_col', data=df)\n",
        "# plt.show()\n",
        "\n",
        "# 8. Outlier Detection (Z-score example)\n",
        "# from scipy.stats import zscore\n",
        "# z_scores = np.abs(zscore(df[num_cols]))\n",
        "# outliers = (z_scores > 3).sum(axis=0)\n",
        "# print(\"Outliers per column:\", outliers)\n",
        "\n",
        "# 9. Skewness and Kurtosis\n",
        "for col in num_cols:\n",
        "    print(f\"{col}: Skewness = {df[col].skew():.2f}, Kurtosis = {df[col].kurt():.2f}\")\n",
        "\n",
        "# 10. Summary & Insights\n",
        "# Add markdown cells or print statements summarizing key findings.\n",
        "\n",
        "# Example:\n",
        "# print(\"Insight: Column X shows high skewness, consider log transformation.\")\n",
        "# print(\"Insight: Column Y has strong correlation with target.\")"
      ],
      "metadata": {
        "id": "VgU3i2hxE10I"
      },
      "id": "VgU3i2hxE10I",
      "execution_count": null,
      "outputs": []
    }
  ],
  "metadata": {
    "language_info": {
      "name": "python"
    },
    "colab": {
      "provenance": []
    },
    "kernelspec": {
      "name": "python3",
      "display_name": "Python 3"
    }
  },
  "nbformat": 4,
  "nbformat_minor": 5
}