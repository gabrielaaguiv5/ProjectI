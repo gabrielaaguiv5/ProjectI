{
  "nbformat": 4,
  "nbformat_minor": 0,
  "metadata": {
    "colab": {
      "provenance": [],
      "authorship_tag": "ABX9TyNAUDEUjNtMRPNHSHSL+fZq",
      "include_colab_link": true
    },
    "kernelspec": {
      "name": "python3",
      "display_name": "Python 3"
    },
    "language_info": {
      "name": "python"
    }
  },
  "cells": [
    {
      "cell_type": "markdown",
      "metadata": {
        "id": "view-in-github",
        "colab_type": "text"
      },
      "source": [
        "<a href=\"https://colab.research.google.com/github/gabrielaaguiv5/ProjectI/blob/main/notebooks/ML.ipynb\" target=\"_parent\"><img src=\"https://colab.research.google.com/assets/colab-badge.svg\" alt=\"Open In Colab\"/></a>"
      ]
    },
    {
      "cell_type": "code",
      "execution_count": null,
      "metadata": {
        "id": "z1l4vNs9Zpct"
      },
      "outputs": [],
      "source": [
        "# Gabriela Aguilar\n",
        "# Exploratory Data Analysis of Travel Review Ratings from UC Irvine Machine Learning Repository\n",
        "# Google reviews on attractions from 24 categories across Europe are considered. Google user rating ranges from 1 to 5 and average user rating per category is calculated.\n"
      ]
    },
    {
      "cell_type": "code",
      "source": [
        "# Importando todas las librerias necesarias\n",
        "\n",
        "import pandas as pd\n",
        "import numpy as np\n",
        "import random\n",
        "from sklearn.preprocessing import StandardScaler\n",
        "from sklearn.cluster import KMeans\n",
        "import googlemaps\n",
        "import folium\n",
        "from folium.plugins import MarkerCluster\n"
      ],
      "metadata": {
        "id": "_Pt7CS-PZtbk"
      },
      "execution_count": null,
      "outputs": []
    },
    {
      "cell_type": "code",
      "source": [
        "# Accesso a repositorio de GitHub privado\n",
        "\n",
        "token = getpass('Enter your GitHub Personal Access Token: ')"
      ],
      "metadata": {
        "id": "gu67ejZCZ4KC"
      },
      "execution_count": null,
      "outputs": []
    },
    {
      "cell_type": "code",
      "source": [
        "# Carga de los Datos\n",
        "\n",
        "# Acceso a repo privado de GitHub y archivo de Datos raw via GitHub API\n",
        "url = f\"https://api.github.com/repos/gabrielaaguiv5/ProjectI/contents/data/raw/google_review_ratings.csv\"\n",
        "\n",
        "# Decodificación con GitHub API y token para acceso a repo privado\n",
        "headers = {\"Authorization\": f\"token {token}\"}\n",
        "res = requests.get(url, headers=headers)\n",
        "\n",
        "# Decodificación de contenido en repo y carga en Database con Pandas\n",
        "if res.status_code == 200:\n",
        "    content = res.json()['content']\n",
        "    decoded = base64.b64decode(content).decode('utf-8')\n",
        "    datos = pd.read_csv(StringIO(decoded), delimiter=',')\n",
        "    print(datos.head(10))\n",
        "else:\n",
        "    print(f\"Failed to fetch file: {res.status_code} {res.reason}\")"
      ],
      "metadata": {
        "id": "RTyfsWWnZ6SL"
      },
      "execution_count": null,
      "outputs": []
    },
    {
      "cell_type": "code",
      "source": [
        "# Apply K-Means\n",
        "kmeans = KMeans(n_clusters=5, random_state=42)\n",
        "df['Cluster'] = kmeans.fit_predict(X_scaled)\n",
        "\n",
        "# Compute average rating and top destinations\n",
        "df['AvgRating'] = X.mean(axis=1)\n",
        "cluster_centers = pd.DataFrame(kmeans.cluster_centers_, columns=X.columns)\n",
        "\n",
        "# Select top N from each cluster\n",
        "N = 3\n",
        "top_destinations = df.groupby('Cluster').apply(lambda x: x.nlargest(N, 'AvgRating')).reset_index(drop=True)\n",
        "\n",
        "# ----------------------------\n",
        "# 3. Generate Randomized Itinerary\n",
        "# ----------------------------\n",
        "# Sample from top destinations\n",
        "main_itinerary = top_destinations.sample(n=5, random_state=42)\n",
        "\n",
        "# Add random bonus destinations\n",
        "bonus_itinerary = df.sample(n=2, random_state=99)\n",
        "itinerary = pd.concat([main_itinerary, bonus_itinerary]).reset_index(drop=True)\n",
        "\n",
        "print(\"\\nGenerated Itinerary:\")\n",
        "print(itinerary[['City', 'Cluster', 'AvgRating']])"
      ],
      "metadata": {
        "id": "N6124mcfZqGz"
      },
      "execution_count": null,
      "outputs": []
    }
  ]
}